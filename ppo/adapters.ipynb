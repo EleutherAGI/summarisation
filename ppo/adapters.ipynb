{
 "cells": [
  {
   "cell_type": "code",
   "execution_count": 1,
   "metadata": {},
   "outputs": [],
   "source": [
    "import torch\n",
    "import torch.nn as nn\n",
    "from transformers import GPT2LMHeadModel\n",
    "from transformers.modeling_outputs import BaseModelOutputWithPastAndCrossAttentions\n",
    "import copy\n",
    "from collections import OrderedDict\n",
    "\n",
    "class AdapterLayer(nn.Module):\n",
    "    def __init__(self, input_size, reduction_factor):\n",
    "        super(AdapterLayer, self).__init__()\n",
    "        self.skip_adapter = False\n",
    "        self.adapter = nn.Sequential(nn.Linear(input_size, input_size//reduction_factor),\n",
    "                                     nn.ReLU(),\n",
    "                                     nn.Linear(input_size//reduction_factor, input_size))\n",
    "        self.adapter.apply(self.init_weights)\n",
    "\n",
    "    def init_weights(self, m, std = 1e-2):\n",
    "        if type(m) == nn.Linear:\n",
    "            torch.nn.init.normal_(m.weight, std = std)\n",
    "            torch.nn.init.normal_(m.bias, std = std)\n",
    "            m.weight.data = torch.clamp(m.weight.data, min = -2*std, max = 2*std)\n",
    "            m.bias.data = torch.clamp(m.bias.data, min = -2*std, max = 2*std)\n",
    "    \n",
    "    def forward(self, X):\n",
    "        if self.skip_adapter:\n",
    "            return X\n",
    "        else:\n",
    "            return self.adapter(X) + X"
   ]
  },
  {
   "cell_type": "code",
   "execution_count": 2,
   "metadata": {},
   "outputs": [],
   "source": [
    "class Adapter_wrapper(nn.Module):\n",
    "    def __init__(self, backbone, reduction_factor = 32):\n",
    "        super(Adapter_wrapper, self).__init__()\n",
    "        self.backbone = backbone\n",
    "        self.backbone_layers = len(self.backbone.transformer.h)\n",
    "        hidden_size = self.backbone.config.hidden_size\n",
    "        \n",
    "        self.adapters = nn.ModuleList([AdapterLayer(hidden_size, reduction_factor).to(backbone.device) for _ in range(self.backbone_layers)])\n",
    "        \n",
    "    def forward(self, *args, **kwargs):\n",
    "        self.attach_adapters()\n",
    "        outputs = self.backbone.forward(*args, **kwargs)\n",
    "        self.detach_adapters()\n",
    "        return outputs\n",
    "    \n",
    "    def attach_adapters(self):\n",
    "        for n in range(self.backbone_layers):\n",
    "            self.backbone.transformer.h[n].mlp = nn.Sequential(OrderedDict([('MLP', self.backbone.transformer.h[n].mlp),\n",
    "                                                    ('Adapter', self.adapters[n])]))\n",
    "            \n",
    "    def detach_adapters(self):\n",
    "        for n in range(self.backbone_layers):\n",
    "            self.backbone.transformer.h[n].mlp = self.backbone.transformer.h[n].mlp[0]"
   ]
  },
  {
   "cell_type": "code",
   "execution_count": 14,
   "metadata": {},
   "outputs": [],
   "source": [
    "gpt2_model = GPT2LMHeadModel.from_pretrained('gpt2').to('cuda')\n",
    "\n",
    "#value_model = Adapter_wrapper(gpt2_model)\n",
    "\n",
    "#optimizer = torch.optim.Adam(gpt2_model.parameters(), lr=3e-4)"
   ]
  },
  {
   "cell_type": "code",
   "execution_count": 15,
   "metadata": {},
   "outputs": [
    {
     "data": {
      "text/plain": [
       "0.31016904172658316"
      ]
     },
     "execution_count": 15,
     "metadata": {},
     "output_type": "execute_result"
    }
   ],
   "source": [
    "import numpy as np\n",
    "model_parameters = filter(lambda p: p.requires_grad, gpt2_model.parameters())\n",
    "all_params = sum([np.prod(p.size()) for p in model_parameters])\n",
    "\n",
    "model_parameters = filter(lambda p: p.requires_grad, gpt2_model.lm_head.parameters())\n",
    "head_params = sum([np.prod(p.size()) for p in model_parameters])\n",
    "\n",
    "head_params/all_params"
   ]
  },
  {
   "cell_type": "code",
   "execution_count": 17,
   "metadata": {},
   "outputs": [
    {
     "data": {
      "text/plain": [
       "124439808"
      ]
     },
     "execution_count": 17,
     "metadata": {},
     "output_type": "execute_result"
    }
   ],
   "source": [
    "all_params"
   ]
  },
  {
   "cell_type": "code",
   "execution_count": 10,
   "metadata": {},
   "outputs": [],
   "source": [
    "124439808\n",
    "120 000000"
   ]
  },
  {
   "cell_type": "code",
   "execution_count": 18,
   "metadata": {},
   "outputs": [
    {
     "data": {
      "text/plain": [
       "38597376"
      ]
     },
     "execution_count": 18,
     "metadata": {},
     "output_type": "execute_result"
    }
   ],
   "source": [
    "head_params"
   ]
  },
  {
   "cell_type": "code",
   "execution_count": null,
   "metadata": {},
   "outputs": [],
   "source": []
  }
 ],
 "metadata": {
  "kernelspec": {
   "display_name": "Python 3",
   "language": "python",
   "name": "python3"
  },
  "language_info": {
   "codemirror_mode": {
    "name": "ipython",
    "version": 3
   },
   "file_extension": ".py",
   "mimetype": "text/x-python",
   "name": "python",
   "nbconvert_exporter": "python",
   "pygments_lexer": "ipython3",
   "version": "3.8.5"
  }
 },
 "nbformat": 4,
 "nbformat_minor": 4
}
