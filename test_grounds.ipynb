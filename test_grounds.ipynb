{
 "cells": [
  {
   "cell_type": "code",
   "execution_count": 1,
   "metadata": {},
   "outputs": [],
   "source": [
    "from utils import TLDRDataset\n",
    "from transformers import GPT2Tokenizer, GPT2LMHeadModel\n",
    "import torch"
   ]
  },
  {
   "cell_type": "code",
   "execution_count": 2,
   "metadata": {},
   "outputs": [],
   "source": [
    "tokenizer = GPT2Tokenizer.from_pretrained(\"gpt2\")\n",
    "tokenizer.pad_token = tokenizer.eos_token\n",
    "\n",
    "ds = TLDRDataset('data/tldr-filtered.json', tokenizer)\n",
    "dl = torch.utils.data.DataLoader(ds, batch_size = 16)"
   ]
  },
  {
   "cell_type": "code",
   "execution_count": 3,
   "metadata": {},
   "outputs": [],
   "source": [
    "for batch_idx, (text, summary_length) in enumerate(dl):\n",
    "    break"
   ]
  },
  {
   "cell_type": "code",
   "execution_count": 4,
   "metadata": {},
   "outputs": [],
   "source": [
    "inputs = tokenizer(text, padding=True, truncation=True, return_length = True, max_length = 512, return_tensors = 'pt')\n",
    "total_length = inputs.pop('length')\n"
   ]
  },
  {
   "cell_type": "code",
   "execution_count": 5,
   "metadata": {},
   "outputs": [
    {
     "data": {
      "text/plain": [
       "{'input_ids': tensor([[   40,   765,   284,  ..., 50256, 50256, 50256],\n",
       "        [   40,  1011,   257,  ..., 50256, 50256, 50256],\n",
       "        [ 3633,   314,   373,  ..., 50256, 50256, 50256],\n",
       "        ...,\n",
       "        [   40,  1254, 23278,  ..., 50256, 50256, 50256],\n",
       "        [   40,   357,    64,  ..., 50256, 50256, 50256],\n",
       "        [ 5779,    11,  8781,  ..., 50256, 50256, 50256]]), 'attention_mask': tensor([[1, 1, 1,  ..., 0, 0, 0],\n",
       "        [1, 1, 1,  ..., 0, 0, 0],\n",
       "        [1, 1, 1,  ..., 0, 0, 0],\n",
       "        ...,\n",
       "        [1, 1, 1,  ..., 0, 0, 0],\n",
       "        [1, 1, 1,  ..., 0, 0, 0],\n",
       "        [1, 1, 1,  ..., 0, 0, 0]])}"
      ]
     },
     "execution_count": 5,
     "metadata": {},
     "output_type": "execute_result"
    }
   ],
   "source": [
    "inputs"
   ]
  },
  {
   "cell_type": "code",
   "execution_count": 11,
   "metadata": {},
   "outputs": [],
   "source": [
    "model = GPT2LMHeadModel.from_pretrained(\"gpt2\")"
   ]
  },
  {
   "cell_type": "code",
   "execution_count": 25,
   "metadata": {},
   "outputs": [],
   "source": [
    "n_gpus = 8\n",
    "n_layers = model.config.n_layer"
   ]
  },
  {
   "cell_type": "code",
   "execution_count": 20,
   "metadata": {},
   "outputs": [
    {
     "data": {
      "text/plain": [
       "2"
      ]
     },
     "execution_count": 20,
     "metadata": {},
     "output_type": "execute_result"
    }
   ],
   "source": [
    "n_layers/n_gpus"
   ]
  },
  {
   "cell_type": "code",
   "execution_count": 22,
   "metadata": {},
   "outputs": [
    {
     "data": {
      "text/plain": [
       "[0, 1, 2, 3, 4, 5, 6, 7, 8, 9, 10, 11]"
      ]
     },
     "execution_count": 22,
     "metadata": {},
     "output_type": "execute_result"
    }
   ],
   "source": []
  },
  {
   "cell_type": "code",
   "execution_count": 69,
   "metadata": {},
   "outputs": [],
   "source": [
    "n_gpus = 8\n",
    "n_layers = model.config.n_layer\n",
    "\n",
    "device_map = {}\n",
    "old_layer = 0\n",
    "for i in range(n_gpus):\n",
    "    current_layer = round((n_layers/(n_gpus))*(i+1))\n",
    "    device_map[i] = [j for j in range(old_layer, current_layer)]\n",
    "    old_layer = current_layer"
   ]
  },
  {
   "cell_type": "code",
   "execution_count": 70,
   "metadata": {},
   "outputs": [
    {
     "data": {
      "text/plain": [
       "{0: [0, 1, 2, 3, 4, 5, 6, 7],\n",
       " 1: [8, 9, 10, 11, 12, 13, 14, 15],\n",
       " 2: [16, 17, 18, 19, 20, 21, 22, 23],\n",
       " 3: [24, 25, 26, 27, 28, 29, 30, 31]}"
      ]
     },
     "execution_count": 70,
     "metadata": {},
     "output_type": "execute_result"
    }
   ],
   "source": [
    "device_map"
   ]
  },
  {
   "cell_type": "code",
   "execution_count": 57,
   "metadata": {},
   "outputs": [
    {
     "data": {
      "text/plain": [
       "11"
      ]
     },
     "execution_count": 57,
     "metadata": {},
     "output_type": "execute_result"
    }
   ],
   "source": [
    "len(blocks)"
   ]
  },
  {
   "cell_type": "code",
   "execution_count": 19,
   "metadata": {},
   "outputs": [
    {
     "data": {
      "text/plain": [
       "tensor([], size=(0, 460), dtype=torch.int64)"
      ]
     },
     "execution_count": 19,
     "metadata": {},
     "output_type": "execute_result"
    }
   ],
   "source": [
    "shift_labels[420:457]"
   ]
  },
  {
   "cell_type": "code",
   "execution_count": 36,
   "metadata": {},
   "outputs": [
    {
     "name": "stdout",
     "output_type": "stream",
     "text": [
      "Fuck Slender Man.\n",
      "I want to say this was about two weeks ago, could be less, but I haven't been sleeping very much lately and the days are starting to blur together.  My dream started off quite normal, going to familiar places and seeing people I knew.  However, I then went through a door and ended up on the middle of the interstate outside my current hometown, traffic not even bothering to attempt to avoid me.  It felt like Frogger.  Anyway, I came to the conclusion that I should just walk home to my old house which is about 180 miles from where I live now.  The entire way back, I began making up stories to keep myself entertained and somehow came upon the idea of creating a new background for my last name, coming up with traits and their stories for each letter in my last name.  Somehow I ended up in my childhood neighborhood in North Carolina, but my house in Florida had replaced the house there.  Every light in the neighborhood was off.  No streetlamps, no porch lights, the stars and moon were gone as well.  Completely dark, and the fatigue was beginning to wear me down.  I finally made it to my house and walked in the front door.  I expected to hear my dogs barking due to the noise I made, but there was nothing.  I walk through the hallway, turn my head to the right and see my parents' bedroom door is closed.  I figure they're asleep, so I turn around.  As soon as I was facing the opposite direction, I see my sister in a chair, dead, eyes open but lifeless, and fucking Slender Man behind her, and even with his featureless face, I could sense every bit fear-inducing aura built up within him as if he'd done this same thing to thousands of people in their nightmares since the dawn of man.  I yelled out her name in the dream, waking myself up with the sound of me actually yelling it in the real world.  I shot straight up in my bed, sobbing, yelling out my sister's name as if it were something from a movie.  That one nightmare singlehandedly scared me more than anything else in my entire life. TLDR:Fuck Slender Man.\n"
     ]
    }
   ],
   "source": [
    "idx = 0\n",
    "temp = shift_labels[idx, total_length[idx] - summary_length[idx]-1 : total_length[idx]-1]\n",
    "print(tokenizer.decode(temp))\n",
    "print(text[idx])"
   ]
  },
  {
   "cell_type": "code",
   "execution_count": 49,
   "metadata": {},
   "outputs": [
    {
     "data": {
      "text/plain": [
       "tensor([  765,   284,   910,  ..., 50256, 50256, 50256])"
      ]
     },
     "execution_count": 49,
     "metadata": {},
     "output_type": "execute_result"
    }
   ],
   "source": [
    " shift_labels[:,total_length - summary_length - 1 : total_length - 1]"
   ]
  },
  {
   "cell_type": "code",
   "execution_count": 67,
   "metadata": {},
   "outputs": [
    {
     "name": "stdout",
     "output_type": "stream",
     "text": [
      "tensor(5) tensor(457)\n",
      "tensor(31) tensor(288)\n",
      "tensor(19) tensor(455)\n",
      "tensor(15) tensor(387)\n",
      "tensor(17) tensor(165)\n",
      "tensor(13) tensor(266)\n",
      "tensor(37) tensor(214)\n",
      "tensor(32) tensor(261)\n",
      "tensor(9) tensor(170)\n",
      "tensor(25) tensor(340)\n",
      "tensor(12) tensor(192)\n",
      "tensor(14) tensor(317)\n",
      "tensor(18) tensor(461)\n",
      "tensor(104) tensor(399)\n",
      "tensor(32) tensor(264)\n",
      "tensor(13) tensor(302)\n"
     ]
    }
   ],
   "source": [
    "for s, t in zip(summary_length, total_length):\n",
    "    print(s, t)"
   ]
  },
  {
   "cell_type": "code",
   "execution_count": null,
   "metadata": {},
   "outputs": [],
   "source": [
    "mask = []\n",
    "#for i in batch\n",
    "for i in range(inputs['input_ids'].size(0)):\n",
    "    mask = "
   ]
  },
  {
   "cell_type": "code",
   "execution_count": 50,
   "metadata": {},
   "outputs": [
    {
     "data": {
      "text/plain": [
       "16"
      ]
     },
     "execution_count": 50,
     "metadata": {},
     "output_type": "execute_result"
    }
   ],
   "source": [
    "mask = [torch.zeros() for index in b]\n"
   ]
  },
  {
   "cell_type": "code",
   "execution_count": 103,
   "metadata": {},
   "outputs": [
    {
     "name": "stdout",
     "output_type": "stream",
     "text": [
      "2\n",
      "5\n",
      "8\n",
      "11\n",
      "14\n",
      "17\n",
      "20\n",
      "23\n",
      "26\n",
      "29\n"
     ]
    }
   ],
   "source": [
    "acc_steps = 3\n",
    "\n",
    "for i in range(30):\n",
    "    if (i + 1) % acc_steps == 0:\n",
    "        print(i)"
   ]
  },
  {
   "cell_type": "code",
   "execution_count": 94,
   "metadata": {},
   "outputs": [],
   "source": [
    "mask = torch.zeros_like(shift_labels, dtype=torch.bool)\n",
    "for i, (s, t) in enumerate(zip(summary_length, total_length)):\n",
    "        mask[i][t - s - 1 : t - 1] = True "
   ]
  },
  {
   "cell_type": "code",
   "execution_count": 95,
   "metadata": {},
   "outputs": [
    {
     "data": {
      "text/plain": [
       "tensor([34094,  3454,  2194,  1869,    13])"
      ]
     },
     "execution_count": 95,
     "metadata": {},
     "output_type": "execute_result"
    }
   ],
   "source": [
    "shift_labels[0, mask[0]]"
   ]
  },
  {
   "cell_type": "code",
   "execution_count": 99,
   "metadata": {},
   "outputs": [
    {
     "name": "stdout",
     "output_type": "stream",
     "text": [
      "series of unrelated fucked up things reveals that I'm a very selfish person.\n",
      "Long one, \n",
      " I was in Walmart, being chased by a man whom I knew was going to rape me/cause me serious bodily harm. Said Walmart became a maze and was increasingly hard to navigate, then I come upon my ex boyfriend in the yarn section (which I'm not sure exists in Walmart stores) and he refused to help me. He said, \"You deserve what is happening to you\". So I'm running out of breath, feeling terrified, knowing I'm going to be caught when I see the door and run outside. \n",
      " It's raining, and very dark out. Two of my professors are out in the parking lot, one is crying and staring off into the distance. I follow her gaze to see this terrible scene: A bridge over a gaping ravine has collapsed and cars are still driving off the edge and crashing into the river beneath. People are dying right before my eyes, screaming, crying. My ears are filled with a terrible screeching sound louder than any other sobbing and I'm suddenly underneath the bridge looking up. \n",
      " I turn around and there's a little girl laying on the river-bank, she's making the screeching sound. I can see blood everywhere but begin to panic when I can't find why she's making this horrifying noise. I place my hands beneath her head and lift her face towards mine. Her eyes are all white and completely void of life. Her mouth grows wider as she screeches and her jaw begins to unhinge. Her teeth grow into long silver  spikes that pierce her lips as they grow, finally her head tears in half completely. \n",
      " Once everything was silent and this 'girl' lay dead on the ground, I grew calm with the thought that it wasn't me that had to suffer. \n",
      " Then I woke up. TLDR:series of unrelated fucked up things reveals that I'm a very selfish person.\n"
     ]
    }
   ],
   "source": [
    "print(tokenizer.decode(shift_labels[3, mask[3]]))\n",
    "print(text[3])"
   ]
  },
  {
   "cell_type": "code",
   "execution_count": 93,
   "metadata": {},
   "outputs": [
    {
     "data": {
      "text/plain": [
       "16"
      ]
     },
     "execution_count": 93,
     "metadata": {},
     "output_type": "execute_result"
    }
   ],
   "source": []
  },
  {
   "cell_type": "code",
   "execution_count": null,
   "metadata": {},
   "outputs": [],
   "source": []
  }
 ],
 "metadata": {
  "kernelspec": {
   "display_name": "Python 3",
   "language": "python",
   "name": "python3"
  },
  "language_info": {
   "codemirror_mode": {
    "name": "ipython",
    "version": 3
   },
   "file_extension": ".py",
   "mimetype": "text/x-python",
   "name": "python",
   "nbconvert_exporter": "python",
   "pygments_lexer": "ipython3",
   "version": "3.8.5"
  }
 },
 "nbformat": 4,
 "nbformat_minor": 4
}
