{
 "cells": [
  {
   "cell_type": "code",
   "execution_count": 35,
   "metadata": {},
   "outputs": [
    {
     "name": "stderr",
     "output_type": "stream",
     "text": [
      "Some weights of the model checkpoint at distilgpt2 were not used when initializing GPT2ForSequenceClassification: ['lm_head.weight']\n",
      "- This IS expected if you are initializing GPT2ForSequenceClassification from the checkpoint of a model trained on another task or with another architecture (e.g. initializing a BertForSequenceClassification model from a BertForPreTraining model).\n",
      "- This IS NOT expected if you are initializing GPT2ForSequenceClassification from the checkpoint of a model that you expect to be exactly identical (initializing a BertForSequenceClassification model from a BertForSequenceClassification model).\n",
      "Some weights of GPT2ForSequenceClassification were not initialized from the model checkpoint at distilgpt2 and are newly initialized: ['score.weight']\n",
      "You should probably TRAIN this model on a down-stream task to be able to use it for predictions and inference.\n"
     ]
    }
   ],
   "source": [
    "import torch\n",
    "import torch.nn as nn\n",
    "import torch.nn.functional as F\n",
    "from classifier import GPT2ForSequenceClassification\n",
    "from transformers import GPT2LMHeadModel, GPT2Tokenizer\n",
    "\n",
    "device = torch.device(\"cuda\" if torch.cuda.is_available() else \"cpu\")\n",
    "\n",
    "sentiment_model = GPT2ForSequenceClassification.from_pretrained(\"distilgpt2\").to(device)\n",
    "gpt2_model = GPT2LMHeadModel.from_pretrained(\"distilgpt2\").to(device)\n",
    "gpt2_model_ref = GPT2LMHeadModel.from_pretrained(\"distilgpt2\").to(device)\n",
    "tokenizer = GPT2Tokenizer.from_pretrained(\"distilgpt2\")\n",
    "\n",
    "sentiment_model.config.pad_token_id = tokenizer.eos_token_id\n",
    "gpt2_model.config.pad_token_id = tokenizer.eos_token_id\n",
    "tokenizer.pad_token = tokenizer.eos_token"
   ]
  },
  {
   "cell_type": "code",
   "execution_count": 40,
   "metadata": {},
   "outputs": [],
   "source": [
    "class STEFunction(torch.autograd.Function):\n",
    "    @staticmethod\n",
    "    def forward(ctx, inputs):\n",
    "        return torch.nn.functional.one_hot(inputs.argmax(dim=2), num_classes = inputs.shape[2]).float()\n",
    "\n",
    "    @staticmethod\n",
    "    def backward(ctx, grad_output):\n",
    "        return torch.nn.functional.hardtanh(grad_output)\n",
    "\n",
    "    \n",
    "class LogitsToEmbeds(nn.Module):\n",
    "    def __init__(self, embedding_weight):\n",
    "        super(LogitsToEmbeds, self).__init__()\n",
    "        \n",
    "        self.fake_embedding = nn.Linear(embedding_weight.weight.size(0), embedding_weight.weight.size(1), bias = False)\n",
    "        self.fake_embedding.weight = torch.nn.Parameter(embedding_weight.weight.t())\n",
    "        self.softmax = nn.Softmax(dim = 2)\n",
    "        \n",
    "    def forward(self, x):\n",
    "        x = self.softmax(x)\n",
    "        x = STEFunction.apply(x)\n",
    "        x = self.fake_embedding(x)\n",
    "        return x\n",
    "\n",
    "class PreferenceLearner(nn.Module):\n",
    "    def __init__(self, base, reference, reward):\n",
    "        super(PreferenceLearner, self).__init__()\n",
    "        self.model = base\n",
    "        self.ref = reference\n",
    "        self.reward = reward\n",
    "        self.toEmbeds = LogitsToEmbeds(sentiment_model.get_input_embeddings())\n",
    "        \n",
    "    def logprobs_from_logits(self, logits, labels):\n",
    "        logp = F.log_softmax(logits, dim=2)\n",
    "        return torch.gather(logp, 2, labels.unsqueeze(2)).squeeze(-1)\n",
    "        \n",
    "    def forward(self, input_ids, attention_mask, length):\n",
    "        \n",
    "        ref_logits = self.ref(input_ids=input_ids, \n",
    "                              attention_mask=attention_mask)['logits']\n",
    "        logits = self.model(input_ids=input_ids, \n",
    "                            attention_mask=attention_mask)['logits']\n",
    "        \n",
    "        ref_logprobs = self.logprobs_from_logits(ref_logits, input_ids)\n",
    "        logprobs = self.logprobs_from_logits(logits, input_ids)\n",
    "        \n",
    "        kl = logprobs - ref_logprobs\n",
    "        \n",
    "        embeds = self.toEmbeds(logits)\n",
    "        \n",
    "        score = self.reward(inputs_embeds = embeds, \n",
    "                            sequence_lengths = length-1)['logits']\n",
    "        \n",
    "        return score, kl.mean(1)\n",
    "        \n",
    "    \n",
    "model = PreferenceLearner(gpt2_model, \n",
    "                          gpt2_model_ref, \n",
    "                          sentiment_model)"
   ]
  },
  {
   "cell_type": "code",
   "execution_count": 44,
   "metadata": {},
   "outputs": [
    {
     "data": {
      "text/plain": [
       "(tensor([[-1.6189],\n",
       "         [-2.5994]], grad_fn=<IndexBackward>),\n",
       " tensor([0., 0.], grad_fn=<MeanBackward1>))"
      ]
     },
     "execution_count": 44,
     "metadata": {},
     "output_type": "execute_result"
    }
   ],
   "source": [
    "inputs = tokenizer(['hello w d', 'hello f f f'], return_length=True, padding=True, return_tensors='pt')\n"
   ]
  },
  {
   "cell_type": "code",
   "execution_count": null,
   "metadata": {},
   "outputs": [],
   "source": []
  }
 ],
 "metadata": {
  "kernelspec": {
   "display_name": "Python 3",
   "language": "python",
   "name": "python3"
  },
  "language_info": {
   "codemirror_mode": {
    "name": "ipython",
    "version": 3
   },
   "file_extension": ".py",
   "mimetype": "text/x-python",
   "name": "python",
   "nbconvert_exporter": "python",
   "pygments_lexer": "ipython3",
   "version": "3.8.5"
  }
 },
 "nbformat": 4,
 "nbformat_minor": 4
}
