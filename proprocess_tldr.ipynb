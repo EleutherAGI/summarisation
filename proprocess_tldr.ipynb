{
 "cells": [
  {
   "cell_type": "code",
   "execution_count": 1,
   "metadata": {},
   "outputs": [],
   "source": [
    "import json\n",
    "from collections import OrderedDict, Counter\n",
    "from transformers import GPT2TokenizerFast\n",
    "from tqdm import tqdm"
   ]
  },
  {
   "cell_type": "code",
   "execution_count": 2,
   "metadata": {},
   "outputs": [],
   "source": [
    "data = []\n",
    "with open('data/tldr-training-data.jsonl') as f:\n",
    "    for line in f:\n",
    "        data.append(json.loads(line))"
   ]
  },
  {
   "cell_type": "code",
   "execution_count": 3,
   "metadata": {},
   "outputs": [
    {
     "name": "stdout",
     "output_type": "stream",
     "text": [
      "content: So you're saying \"try it, I might not mind losing access to directions that follow my only available mode of transportation (public)\"? This isn't a it might be ok but some people don't like it issue like Siri not listening to you  well . This is removing an entire function that I use all the time. It's not worth it and I won't be upgrading. Especially since they still haven't provided a feature that lets you roll anything back to a previous version (which just boggles my mind). If have to roll everything back using a backup of it turned out that, yes, I really can't find my way through the maze of subways, busses, and trains that make up the greater NY area with a combination of 3D flyovers, luck, and  magic . \n",
      "\n",
      "summary: you don't seem to understand what's going on here. \n",
      "\n",
      "subreddit: apple\n"
     ]
    }
   ],
   "source": [
    "def view_sample(idx):\n",
    "    print(f\"content: {data[idx]['content']} \\n\")\n",
    "    print(f\"summary: {data[idx]['summary']} \\n\")\n",
    "    print(f\"subreddit: {data[idx]['subreddit']}\")\n",
    "    \n",
    "view_sample(5)"
   ]
  },
  {
   "cell_type": "code",
   "execution_count": 4,
   "metadata": {},
   "outputs": [
    {
     "data": {
      "text/plain": [
       "3084410"
      ]
     },
     "execution_count": 4,
     "metadata": {},
     "output_type": "execute_result"
    }
   ],
   "source": [
    "len(data)"
   ]
  },
  {
   "cell_type": "code",
   "execution_count": 5,
   "metadata": {},
   "outputs": [],
   "source": [
    "catagories = ['relationships',\n",
    "            'AskReddit',\n",
    "            'relationship_advice',\n",
    "            'tifu',\n",
    "            'dating_advice' ,\n",
    "            'personalfinance',\n",
    "            'Advice',\n",
    "            'legaladvice',\n",
    "            'offmychest',\n",
    "            'loseit',\n",
    "            'jobs',\n",
    "            'self',\n",
    "            'BreakUps',\n",
    "            'askwomenadvice',\n",
    "            'dogs',\n",
    "            'running',\n",
    "            'pettyrevenge',\n",
    "            'needadvice',\n",
    "            'travel',\n",
    "            'Parenting',\n",
    "            'weddingplanning',\n",
    "            'Pets',\n",
    "            'Dogtraining',\n",
    "            'cats',\n",
    "            'AskDocs',\n",
    "            'college',\n",
    "            'GetMotivated',\n",
    "            'books',\n",
    "            'Cooking']\n",
    "\n",
    "#Whitelist catagories\n",
    "whitelist = [item for item in data if 'subreddit' in item and item[\"subreddit\"] in catagories]"
   ]
  },
  {
   "cell_type": "code",
   "execution_count": 6,
   "metadata": {},
   "outputs": [],
   "source": [
    "#Remove duplicates\n",
    "od = OrderedDict((hash(item['body']), item) for item in whitelist)\n",
    "whitelist = list(od.values())"
   ]
  },
  {
   "cell_type": "code",
   "execution_count": 7,
   "metadata": {},
   "outputs": [
    {
     "name": "stderr",
     "output_type": "stream",
     "text": [
      "  3%|▎         | 28992/846091 [00:22<09:54, 1373.62it/s]Token indices sequence length is longer than the specified maximum sequence length for this model (2355 > 1024). Running this sequence through the model will result in indexing errors\n",
      "100%|██████████| 846091/846091 [11:56<00:00, 1181.09it/s]\n"
     ]
    }
   ],
   "source": [
    "#Remove items whose body is longer than 512\n",
    "#probably could just be done in training\n",
    "\n",
    "tokenizer = GPT2TokenizerFast.from_pretrained(\"gpt2\")\n",
    "\n",
    "trimmed = []\n",
    "for item in tqdm(whitelist):\n",
    "    if len(tokenizer(item['body'])['input_ids']) <= 512:\n",
    "        trimmed.append(item)\n",
    "\n",
    "\n",
    "#trimmed = [item for item in whitelist ]"
   ]
  },
  {
   "cell_type": "code",
   "execution_count": 8,
   "metadata": {},
   "outputs": [
    {
     "name": "stdout",
     "output_type": "stream",
     "text": [
      "AskReddit: 440867\n",
      "relationship_advice: 27339\n",
      "relationships: 203277\n",
      "dating_advice: 8223\n",
      "pettyrevenge: 2539\n",
      "dogs: 3039\n",
      "loseit: 8089\n",
      "personalfinance: 14348\n",
      "tifu: 36480\n",
      "jobs: 4022\n",
      "Parenting: 3236\n",
      "BreakUps: 2397\n",
      "running: 3678\n",
      "travel: 2330\n",
      "Dogtraining: 1354\n",
      "offmychest: 7372\n",
      "Cooking: 1010\n",
      "Pets: 1423\n",
      "GetMotivated: 1706\n",
      "cats: 1473\n",
      "legaladvice: 7936\n",
      "self: 5376\n",
      "weddingplanning: 2246\n",
      "books: 3426\n",
      "Advice: 7413\n",
      "needadvice: 1848\n",
      "AskDocs: 1192\n",
      "college: 1585\n",
      "askwomenadvice: 2680\n",
      "\n",
      "total items: 807904\n"
     ]
    }
   ],
   "source": [
    "subreddits = [item['subreddit'] for item in trimmed]\n",
    "keys = list(Counter(subreddits).keys())\n",
    "vals = list(Counter(subreddits).values())\n",
    "tot = 0\n",
    "for key, val in zip(keys, vals):\n",
    "    tot += val\n",
    "    print(f'{key}: {val}')\n",
    "print(f'\\ntotal items: {tot}')"
   ]
  },
  {
   "cell_type": "code",
   "execution_count": 9,
   "metadata": {},
   "outputs": [],
   "source": [
    "from sklearn.model_selection import train_test_split\n",
    "\n",
    "train, test = train_test_split(trimmed, test_size = .05)"
   ]
  },
  {
   "cell_type": "code",
   "execution_count": 10,
   "metadata": {},
   "outputs": [],
   "source": [
    "with open('data/tldr-filtered-test.json', 'w') as outfile:\n",
    "    json.dump(test, outfile)\n",
    "    \n",
    "with open('data/tldr-filtered-train.json', 'w') as outfile:\n",
    "    json.dump(train, outfile)"
   ]
  },
  {
   "cell_type": "code",
   "execution_count": 31,
   "metadata": {},
   "outputs": [
    {
     "name": "stderr",
     "output_type": "stream",
     "text": [
      "100%|██████████| 1/1 [00:00<00:00,  6.55it/s]\n"
     ]
    }
   ],
   "source": [
    "#Not important code rn\n",
    "\n",
    "import os\n",
    "dirs = os.listdir('comparisons')\n",
    "\n",
    "#Filter out dirs that do not relate to TL:DR\n",
    "dirs = [item for item in dirs if 'cnnd' not in item and 'edi' not in item]\n",
    "dirs = dirs[0:1]\n",
    "#dirs = dirs[0:1]\n",
    "\n",
    "comparisons = []\n",
    "labels = []\n",
    "\n",
    "for directory in tqdm(dirs):\n",
    "    data = []\n",
    "    with open(f'comparisons/{directory}') as f:\n",
    "        for line in f:\n",
    "            data.append(json.loads(line))"
   ]
  }
 ],
 "metadata": {
  "kernelspec": {
   "display_name": "Python 3",
   "language": "python",
   "name": "python3"
  },
  "language_info": {
   "codemirror_mode": {
    "name": "ipython",
    "version": 3
   },
   "file_extension": ".py",
   "mimetype": "text/x-python",
   "name": "python",
   "nbconvert_exporter": "python",
   "pygments_lexer": "ipython3",
   "version": "3.8.5"
  }
 },
 "nbformat": 4,
 "nbformat_minor": 4
}
