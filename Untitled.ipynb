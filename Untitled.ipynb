{
 "cells": [
  {
   "cell_type": "code",
   "execution_count": 1,
   "metadata": {},
   "outputs": [],
   "source": [
    "from utils import TLDRDataset"
   ]
  },
  {
   "cell_type": "code",
   "execution_count": 2,
   "metadata": {},
   "outputs": [],
   "source": [
    "ds = TLDRDataset('data/tldr-filtered.json')"
   ]
  },
  {
   "cell_type": "code",
   "execution_count": 12,
   "metadata": {},
   "outputs": [],
   "source": [
    "for idx, (prompt, summary) in ds:\n",
    "    break\n",
    "    pass\n",
    "    #break"
   ]
  },
  {
   "cell_type": "code",
   "execution_count": 13,
   "metadata": {},
   "outputs": [
    {
     "name": "stdout",
     "output_type": "stream",
     "text": [
      "End of last semester this girl expressed signs that may she be interested in me. It threw me off guard and I was focused on finals so I didn't really get a chance to further explore the possibility and get her number. So added her on Facebook a few days after the semester ended.   I added her on Facebook   on my birthday  to see if she would message me  figuring if she did like she would message me to initiate a conversation. instead she just wished me happy birthday on my wall with a smiley face which didn't really tell me anything.   I messaged her like four days later to see if she was taking summer classes   really just to initiate conversation    A day later she read the message the rest of conversation went like this    her  yea but just 3 classes online      me  oh wow so you're gonna pretty busy this summer    i was asking my little sister for advice on what to say and she said i should say this to be suggestive on wanting to hang out without being to straightforward early on    her  yea i'll also be working and moving as well lol   me  aw so you're not coming back to  college we attend     her  I am  i'll just be moving into an apartment   me  oh wow congrats on the new place      so I ended the convo there because my little sister told me it seemed like I was putting most of the effort into the conversation   idk she was responding my messages pretty quickly   and there were a few signs that made it seem like she was really into me at the end of last semester. I never really got close to my initial goal which was to hang out in person to get a better idea of where i stood with her and whether or not I should I ask her out on a real date.   basically i feel like she may be nervous and may be more prone disclosing her  possible  feelings for me if I self disclose how I feel about her first.\n"
     ]
    }
   ],
   "source": [
    "print(prompt)"
   ]
  },
  {
   "cell_type": "code",
   "execution_count": 14,
   "metadata": {},
   "outputs": [
    {
     "name": "stdout",
     "output_type": "stream",
     "text": [
      "I added this girl who expressed possible interest in me on Facebook. there is conversation there but I'm asking all the questions. I was wondering if I was making the right move by moving just based off how a short conversation went \n"
     ]
    }
   ],
   "source": [
    "print(summary)"
   ]
  },
  {
   "cell_type": "code",
   "execution_count": null,
   "metadata": {},
   "outputs": [],
   "source": []
  }
 ],
 "metadata": {
  "kernelspec": {
   "display_name": "Python 3",
   "language": "python",
   "name": "python3"
  },
  "language_info": {
   "codemirror_mode": {
    "name": "ipython",
    "version": 3
   },
   "file_extension": ".py",
   "mimetype": "text/x-python",
   "name": "python",
   "nbconvert_exporter": "python",
   "pygments_lexer": "ipython3",
   "version": "3.8.5"
  }
 },
 "nbformat": 4,
 "nbformat_minor": 4
}
